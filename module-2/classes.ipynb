{
 "cells": [
  {
   "cell_type": "markdown",
   "id": "a0ef5607-4d78-4b57-b1c9-5640d608e23b",
   "metadata": {},
   "source": [
    "# Classes"
   ]
  },
  {
   "cell_type": "markdown",
   "id": "48835679-e949-4527-afb2-b49d4f6a5c27",
   "metadata": {},
   "source": [
    "### Math"
   ]
  },
  {
   "cell_type": "code",
   "execution_count": 7,
   "id": "811f1fc9-5337-4c5d-9501-4e78a6c102c9",
   "metadata": {},
   "outputs": [],
   "source": [
    "import math"
   ]
  },
  {
   "cell_type": "code",
   "execution_count": 10,
   "id": "3645b937-ab19-4ed3-932a-21a2b8531f49",
   "metadata": {},
   "outputs": [
    {
     "data": {
      "text/plain": [
       "3.0"
      ]
     },
     "execution_count": 10,
     "metadata": {},
     "output_type": "execute_result"
    }
   ],
   "source": [
    "math.sqrt(9)"
   ]
  },
  {
   "cell_type": "code",
   "execution_count": 65,
   "id": "4d957502-39ad-43ec-aa07-c010b03f5f6b",
   "metadata": {},
   "outputs": [
    {
     "data": {
      "text/plain": [
       "729.0"
      ]
     },
     "execution_count": 65,
     "metadata": {},
     "output_type": "execute_result"
    }
   ],
   "source": [
    "math.pow(9, 3)"
   ]
  },
  {
   "cell_type": "code",
   "execution_count": 66,
   "id": "f1c8a28b-487d-4ca3-b7e4-cdcfbc6e4ab3",
   "metadata": {},
   "outputs": [
    {
     "data": {
      "text/plain": [
       "24"
      ]
     },
     "execution_count": 66,
     "metadata": {},
     "output_type": "execute_result"
    }
   ],
   "source": [
    "math.factorial(4)"
   ]
  },
  {
   "cell_type": "code",
   "execution_count": 64,
   "id": "280e92e0-957f-427f-a53a-8398656c171e",
   "metadata": {},
   "outputs": [
    {
     "data": {
      "text/plain": [
       "2.0"
      ]
     },
     "execution_count": 64,
     "metadata": {},
     "output_type": "execute_result"
    }
   ],
   "source": [
    "math.dist([10], [8])"
   ]
  },
  {
   "cell_type": "markdown",
   "id": "5b3a9529-9115-4262-8d77-8151c570d90f",
   "metadata": {},
   "source": [
    "Forumla of distance between two points \"a\" and \"b\" is given by:\n",
    "$\\sqrt{(a-b)^{2}}$"
   ]
  },
  {
   "cell_type": "markdown",
   "id": "8a259141-61e1-43e6-9002-ae77c5e1b926",
   "metadata": {},
   "source": [
    "### Random"
   ]
  },
  {
   "cell_type": "code",
   "execution_count": 18,
   "id": "00ab6d8a-b27e-4c49-a353-091dad755924",
   "metadata": {},
   "outputs": [],
   "source": [
    "import random"
   ]
  },
  {
   "cell_type": "code",
   "execution_count": 22,
   "id": "5e09c454-2244-4f21-b10f-c3fc7c81ac78",
   "metadata": {},
   "outputs": [
    {
     "data": {
      "text/plain": [
       "423"
      ]
     },
     "execution_count": 22,
     "metadata": {},
     "output_type": "execute_result"
    }
   ],
   "source": [
    "random.randint(1, 500)"
   ]
  },
  {
   "cell_type": "code",
   "execution_count": 37,
   "id": "cb17071a-6b4d-42cb-8773-c7c8b79b52b5",
   "metadata": {},
   "outputs": [],
   "source": [
    "list_1 = [\"UP\", \"Down\", \"hajsdj\", \"M\", 1, \"Hi\", 88]"
   ]
  },
  {
   "cell_type": "code",
   "execution_count": 42,
   "id": "4eba8742-2125-4e9a-b54f-a837804a0d2e",
   "metadata": {},
   "outputs": [
    {
     "data": {
      "text/plain": [
       "'M'"
      ]
     },
     "execution_count": 42,
     "metadata": {},
     "output_type": "execute_result"
    }
   ],
   "source": [
    "random.choice(list_1)"
   ]
  },
  {
   "cell_type": "code",
   "execution_count": 43,
   "id": "220aff50-ac4f-4278-b5dc-f4833e8f648a",
   "metadata": {},
   "outputs": [],
   "source": [
    "random.shuffle(list_1)"
   ]
  },
  {
   "cell_type": "code",
   "execution_count": 44,
   "id": "1aaf31d6-65c2-43dc-adca-f05585af5790",
   "metadata": {},
   "outputs": [
    {
     "data": {
      "text/plain": [
       "['UP', 88, 'M', 'Down', 1, 'hajsdj', 'Hi']"
      ]
     },
     "execution_count": 44,
     "metadata": {},
     "output_type": "execute_result"
    }
   ],
   "source": [
    "list_1"
   ]
  },
  {
   "cell_type": "markdown",
   "id": "7d7edbc5-665a-4c81-8781-8fedbd5288f8",
   "metadata": {},
   "source": [
    "## Practice Questions"
   ]
  },
  {
   "cell_type": "markdown",
   "id": "4284d964-46c8-4aa2-8f8b-424ef4ba268a",
   "metadata": {},
   "source": [
    "1) Create a function that adds the numbers of a sequence\n",
    "\n",
    "2) Create another function that divides a number $a$ by $b$. \n",
    "\n",
    "3) Create 3rd function that uses first two functions to compute average of a given list of numbers\n",
    "\n",
    "**Note:** The formula for computing average of `n` numbers is:\n",
    "$$\\frac{a_1 + a_2 + a_3 + a_4 + \\dots + a_n}{n}$$"
   ]
  },
  {
   "cell_type": "markdown",
   "id": "5fb0b252-03d4-457b-9324-a91b576bdc1a",
   "metadata": {},
   "source": [
    "## Defining Instance methods"
   ]
  },
  {
   "cell_type": "code",
   "execution_count": 26,
   "id": "08f6050b-33fd-4e14-87f2-309156c4981a",
   "metadata": {},
   "outputs": [],
   "source": [
    "class Student:\n",
    "    # Constructor\n",
    "    def __init__(self, name, age):\n",
    "        self.name = name\n",
    "        self.age = age\n",
    "\n",
    "    def info(self):\n",
    "        print(f\"The new student is {self.name} and he is {self.age} years old.\")"
   ]
  },
  {
   "cell_type": "code",
   "execution_count": 27,
   "id": "7e1cd91a-adfc-4de2-a7b5-63f77aacf398",
   "metadata": {},
   "outputs": [],
   "source": [
    "# Lets create object using Student class\n",
    "s1 = Student(name=\"Arthas\", age=24)"
   ]
  },
  {
   "cell_type": "code",
   "execution_count": 28,
   "id": "454b0a6b-e68b-42ed-8d92-7b76ee28d258",
   "metadata": {},
   "outputs": [
    {
     "name": "stdout",
     "output_type": "stream",
     "text": [
      "Arthas\n"
     ]
    }
   ],
   "source": [
    "print(s1.name)"
   ]
  },
  {
   "cell_type": "code",
   "execution_count": 29,
   "id": "024275b9-e9e6-4029-900c-50243054ad06",
   "metadata": {},
   "outputs": [
    {
     "name": "stdout",
     "output_type": "stream",
     "text": [
      "The new student is Arthas and he is 24 years old.\n"
     ]
    }
   ],
   "source": [
    "## syntax --> class_name.method_name(parameters)\n",
    "s1.info()"
   ]
  },
  {
   "cell_type": "markdown",
   "id": "65085b11-3ccd-42d5-83d7-95a304865cd0",
   "metadata": {},
   "source": [
    "### Practice Question"
   ]
  },
  {
   "cell_type": "markdown",
   "id": "8d01947a-f262-469d-8cdf-baa5493073ed",
   "metadata": {},
   "source": [
    "**Q1:**\n",
    "1) Create a class called bank Account\n",
    "2) Create constructor which takes two arguments owner, balance=0\n",
    "3) Create method called deposit with 1 argument namely amount (to be deposit). The method would add new amount to the balance and print out new balance in the account"
   ]
  },
  {
   "cell_type": "markdown",
   "id": "2da9a8e4-ae46-48db-a10d-4c714ff05b1c",
   "metadata": {},
   "source": [
    "**Q2:**\n",
    "\n",
    "Write a Python class called Rectangle that has attributes \n",
    "\n",
    "length and width. Implement methods to calculate the area \n",
    "\n",
    "and perimeter of the rectangle.\n",
    "\n",
    "$\\text{Area} = \\text{length}*\\text{width}$\n",
    "\n",
    "$\\text{perimeter} = (\\text{length}+\\text{width})*2$"
   ]
  },
  {
   "cell_type": "markdown",
   "id": "43b1dea8-01ea-421f-a090-967f0584ac75",
   "metadata": {},
   "source": [
    "#### Creating a bank account for myself using class"
   ]
  },
  {
   "cell_type": "code",
   "execution_count": 5,
   "id": "05452992-99a5-4500-9763-b8fa19947967",
   "metadata": {},
   "outputs": [],
   "source": [
    "# Defining my class and its structure\n",
    "class Account_1():\n",
    "    owner = \"Abdul\"\n",
    "    balance = 500"
   ]
  },
  {
   "cell_type": "code",
   "execution_count": 9,
   "id": "0eecf2cb-d5ac-4d66-98bb-8b2880442519",
   "metadata": {},
   "outputs": [],
   "source": [
    "# Initializing my account\n",
    "my_acc = Account_1()"
   ]
  },
  {
   "cell_type": "code",
   "execution_count": 7,
   "id": "00e25539-87a7-4aa4-ba04-7b9d4a54b073",
   "metadata": {},
   "outputs": [],
   "source": [
    "acc2 = Account_1()"
   ]
  },
  {
   "cell_type": "code",
   "execution_count": 10,
   "id": "5fa3efcd-33b8-4c96-8c08-9f9884e6fe55",
   "metadata": {},
   "outputs": [
    {
     "name": "stdout",
     "output_type": "stream",
     "text": [
      "Abdul\n"
     ]
    }
   ],
   "source": [
    "print(my_acc.owner)"
   ]
  },
  {
   "cell_type": "code",
   "execution_count": 11,
   "id": "074405e1-8c30-49cd-ab26-680efdda23ab",
   "metadata": {},
   "outputs": [
    {
     "name": "stdout",
     "output_type": "stream",
     "text": [
      "500\n"
     ]
    }
   ],
   "source": [
    "print(my_acc.balance)"
   ]
  },
  {
   "cell_type": "markdown",
   "id": "27d896e0-78b0-4660-9330-b88cd4b0d295",
   "metadata": {},
   "source": [
    "#### What if we want to create another account?"
   ]
  },
  {
   "cell_type": "markdown",
   "id": "286c9435-a5c6-45e2-998d-8192e8365baa",
   "metadata": {},
   "source": [
    "<s><h3>class Account_2():<br>owowner = \"Jack\"<br>\"balance = 1000</s>"
   ]
  },
  {
   "cell_type": "code",
   "execution_count": 25,
   "id": "e011ec5a-f35e-4bf7-971d-771372cab864",
   "metadata": {},
   "outputs": [],
   "source": [
    "class Account():\n",
    "\n",
    "    def __init__(self, owner, balance):\n",
    "        self.malik = owner\n",
    "        self.paisa = balance"
   ]
  },
  {
   "cell_type": "code",
   "execution_count": 26,
   "id": "9ffcdc36-1a97-4db4-9456-89ffc3da2149",
   "metadata": {},
   "outputs": [],
   "source": [
    "per_1 = Account(owner=\"kjkjkl\", balance=200)"
   ]
  },
  {
   "cell_type": "code",
   "execution_count": 11,
   "id": "fb9ce85a-f8f2-42ee-82ad-1c0cb83ae0b7",
   "metadata": {},
   "outputs": [
    {
     "data": {
      "text/plain": [
       "'kjkjkl'"
      ]
     },
     "execution_count": 11,
     "metadata": {},
     "output_type": "execute_result"
    }
   ],
   "source": [
    "per_1.malik"
   ]
  },
  {
   "cell_type": "code",
   "execution_count": 13,
   "id": "1d3c23c0-113b-4931-9866-4a4831f0b232",
   "metadata": {},
   "outputs": [],
   "source": [
    "per_2 = Account(owner=\"Asad\", balance=500)"
   ]
  },
  {
   "cell_type": "code",
   "execution_count": 16,
   "id": "d3dea819-60ec-461b-8578-3209127f54d6",
   "metadata": {},
   "outputs": [
    {
     "ename": "AttributeError",
     "evalue": "'Account' object has no attribute 'balance'",
     "output_type": "error",
     "traceback": [
      "\u001b[1;31m---------------------------------------------------------------------------\u001b[0m",
      "\u001b[1;31mAttributeError\u001b[0m                            Traceback (most recent call last)",
      "Cell \u001b[1;32mIn[16], line 1\u001b[0m\n\u001b[1;32m----> 1\u001b[0m per_2\u001b[38;5;241m.\u001b[39mbalance\n",
      "\u001b[1;31mAttributeError\u001b[0m: 'Account' object has no attribute 'balance'"
     ]
    }
   ],
   "source": [
    "per_2.balance"
   ]
  },
  {
   "cell_type": "code",
   "execution_count": 32,
   "id": "8e8ef734-b701-4b9d-a9ff-fc983f02957d",
   "metadata": {},
   "outputs": [],
   "source": [
    "class Bank():\n",
    "    ## Constructor\n",
    "    def __init__(self, owner, balance):\n",
    "        self.owner = owner\n",
    "        self.balance = balance\n",
    "\n",
    "    def func(self, deposit):\n",
    "        self.balance = self.balance + deposit\n",
    "        return self.balance\n"
   ]
  },
  {
   "cell_type": "code",
   "execution_count": 33,
   "id": "242c277d-e041-41d6-bfd6-6e5160270593",
   "metadata": {},
   "outputs": [],
   "source": [
    "per_1 = Bank(\"DAvid\", 54)"
   ]
  },
  {
   "cell_type": "code",
   "execution_count": 38,
   "id": "0bcc4e3a-5384-42d4-9a58-3c1c6b612065",
   "metadata": {},
   "outputs": [
    {
     "data": {
      "text/plain": [
       "500"
      ]
     },
     "execution_count": 38,
     "metadata": {},
     "output_type": "execute_result"
    }
   ],
   "source": [
    "per_1.balance"
   ]
  }
 ],
 "metadata": {
  "kernelspec": {
   "display_name": "Python 3 (ipykernel)",
   "language": "python",
   "name": "python3"
  },
  "language_info": {
   "codemirror_mode": {
    "name": "ipython",
    "version": 3
   },
   "file_extension": ".py",
   "mimetype": "text/x-python",
   "name": "python",
   "nbconvert_exporter": "python",
   "pygments_lexer": "ipython3",
   "version": "3.11.7"
  }
 },
 "nbformat": 4,
 "nbformat_minor": 5
}
